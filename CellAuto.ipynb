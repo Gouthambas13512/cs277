{
 "cells": [
  {
   "cell_type": "markdown",
   "metadata": {},
   "source": [
    "The autograder will run with the following imports (and only the following imports). Depending on your notebook setup you may not actually need these imports, but its worth running this once at the start to be sure."
   ]
  },
  {
   "cell_type": "code",
   "execution_count": 32,
   "metadata": {},
   "outputs": [],
   "source": [
    "import numpy as np\n",
    "import matplotlib.pyplot as plt\n",
    "import matplotlib.animation as animation\n",
    "from matplotlib import colors"
   ]
  },
  {
   "cell_type": "code",
   "execution_count": 33,
   "metadata": {},
   "outputs": [],
   "source": [
    "#grade\n",
    "\n",
    "#INPUT:\n",
    "# An integer rows storing the number of rows\n",
    "# An integer cols storing the number of columns\n",
    "#OUTPUT:\n",
    "# A list of lists forming a 2D matrix.\n",
    "# The output must be either a numpy.ndarray or a built-in python nested list\n",
    "\n",
    "def emptyMatrix(rows, cols):\n",
    "    matrix = np.zeros((rows, cols), dtype=float)\n",
    "    return matrix\n",
    "matrix = emptyMatrix(5,5)"
   ]
  },
  {
   "cell_type": "code",
   "execution_count": 34,
   "metadata": {},
   "outputs": [
    {
     "data": {
      "text/plain": [
       "[5, 5]"
      ]
     },
     "execution_count": 34,
     "metadata": {},
     "output_type": "execute_result"
    }
   ],
   "source": [
    "#grade\n",
    "\n",
    "#INPUT:\n",
    "#A lists of lists forming a 2D matrix (using a built-in list)\n",
    "#OUTPUT:\n",
    "# A list of size 2 storing the number of rows at index 0 \n",
    "# and the number of columns at index 1\n",
    "def getSize(matrix):\n",
    "    numRows = len(matrix)\n",
    "    numColumns = len(matrix[0])\n",
    "    shape = [numRows,numColumns]\n",
    "    return shape\n",
    "getSize(matrix)"
   ]
  },
  {
   "cell_type": "code",
   "execution_count": 35,
   "metadata": {},
   "outputs": [],
   "source": [
    "#grade\n",
    "\n",
    "#INPUT:\n",
    "# A lists of lists forming a 2D matrix (using a built-in list)\n",
    "# A string fName storing the absolute path to a space-separated text file\n",
    "#OUTPUT:\n",
    "# A list of lists forming a 2D matrix.\n",
    "# The output must be either a numpy.ndarray or a built-in python nested list\n",
    "# The matrix should be the same dimensions as the input and must include all x,y pairs \n",
    "# found in the input file.\n",
    "# NOTE: If an input pair has a coordinate larger than the matrix, it should be ignored\n",
    "def importValues(matrix, fName):\n",
    "    try:\n",
    "        \n",
    "        with open(fName, \"r\") as file:\n",
    "            file_as_matrix = []\n",
    "            for line in file:\n",
    "                file_as_matrix.append(line.strip().split(\" \"))\n",
    "\n",
    "            for i in range(len(file_as_matrix)):\n",
    "                x = int(file_as_matrix[i][0])\n",
    "                y = int(file_as_matrix[i][1])\n",
    "                if 0 <= x < len(matrix) and 0 <= y < len(matrix[0]):\n",
    "                    matrix[x][y] = 1\n",
    "        return matrix\n",
    "    except (FileNotFoundError, IOError):\n",
    "        return None\n",
    "\n"
   ]
  },
  {
   "cell_type": "code",
   "execution_count": 36,
   "metadata": {},
   "outputs": [],
   "source": [
    "#print(importValues(emptyMatrix(15,15), \"data/crazy_25_25.txt\"))"
   ]
  },
  {
   "cell_type": "code",
   "execution_count": 37,
   "metadata": {},
   "outputs": [],
   "source": [
    "#grade\n",
    "\n",
    "#INPUT:\n",
    "# A lists of lists forming a 2D matrix (using a built-in list)\n",
    "#OUTPUT:\n",
    "# A list of lists forming a 2D matrix.\n",
    "# The output must be either a numpy.ndarray or a built-in python nested list\n",
    "# The matrix should be the same dimensions as the input and be the next timestamp\n",
    "# of cellular automata. Your logic should consider indices past matrix boundaries 'empty'.\n",
    "# NOTE: You should return a deep copy of the matrix, not a shallow one!\n",
    "\n",
    "import copy # to create a deep copy later\n",
    "def update(matrix):\n",
    "    rows, columns = len(matrix), len(matrix[0]) # sets the rows and columns \n",
    "    matrix_2 = emptyMatrix(rows, columns) #creates an empty matrix where perform\n",
    "    \n",
    "    matrix_2 = copy.deepcopy(matrix)\n",
    "    for x in range(rows):#going through the matrix. x = current row\n",
    "        for y in range(columns): # going through matrix x = column\n",
    "            neighbor_as_array = []\n",
    "            for z in range(max(0, x-1), min(rows, x+2)):\n",
    "                local_rows = []\n",
    "                for i in range(max(0, y-1), min(columns, y+2)):\n",
    "                    local_rows.append(matrix[z][i])\n",
    "                neighbor_as_array.append(local_rows)\n",
    "            prox_sum = 0\n",
    "            prox_sum = sum(row[y] for row in neighbor_as_array for y in range(len(row))) - matrix[x][y] #the total sum of all the values surrounding the cell\n",
    "\n",
    "                \n",
    "                \n",
    "            \n",
    "            #Performs the update    \n",
    "            \"\"\"\n",
    "            if matrix[z][i] == 1:\n",
    "                if prox_sum < 2:\n",
    "                    matrix_2[x][y] = 0\n",
    "                if prox_sum == 2 or prox_sum == 3:\n",
    "                    matrix_2[x][y] = 1\n",
    "                if prox_sum > 3:\n",
    "                    matrix_2[x][y] = 0\n",
    "            elif matrix[z][i] == 0 and prox_sum == 3:\n",
    "                matrix_2[x][y] = 1\n",
    "            \"\"\"\n",
    "            \n",
    "            if matrix[x][y] == 1:\n",
    "                if prox_sum < 2 or prox_sum > 3:\n",
    "                    matrix_2[x][y] = 0\n",
    "            elif matrix[x][y] == 0:\n",
    "                if prox_sum == 3:\n",
    "                    matrix_2[x][y] = 1\n",
    "            \n",
    "                \n",
    "            \n",
    "    \n",
    "    return matrix_2"
   ]
  },
  {
   "cell_type": "code",
   "execution_count": 38,
   "metadata": {},
   "outputs": [
    {
     "data": {
      "text/plain": [
       "array([[0., 0., 0., 0., 0., 0., 0., 0., 0., 0., 0., 0., 0., 0., 0.],\n",
       "       [0., 0., 0., 0., 0., 0., 0., 0., 0., 0., 0., 0., 0., 0., 0.],\n",
       "       [0., 0., 0., 0., 0., 0., 0., 0., 0., 0., 0., 0., 0., 0., 0.],\n",
       "       [0., 0., 0., 0., 0., 0., 0., 0., 0., 0., 0., 0., 0., 0., 0.],\n",
       "       [0., 0., 0., 0., 0., 0., 0., 0., 0., 0., 0., 0., 0., 0., 0.],\n",
       "       [0., 0., 0., 0., 0., 0., 0., 0., 0., 0., 0., 0., 0., 0., 0.],\n",
       "       [0., 0., 0., 0., 0., 0., 0., 0., 0., 0., 0., 0., 0., 0., 0.],\n",
       "       [0., 0., 0., 0., 0., 0., 0., 0., 0., 0., 0., 0., 0., 0., 0.],\n",
       "       [0., 0., 0., 0., 0., 0., 0., 0., 0., 0., 0., 0., 0., 0., 0.],\n",
       "       [0., 0., 0., 0., 0., 0., 0., 0., 0., 0., 0., 0., 0., 0., 0.],\n",
       "       [0., 0., 0., 0., 0., 0., 0., 0., 0., 0., 1., 0., 0., 0., 0.],\n",
       "       [0., 0., 0., 0., 0., 0., 0., 0., 0., 1., 0., 1., 0., 0., 0.],\n",
       "       [0., 0., 0., 0., 0., 0., 0., 0., 0., 1., 0., 1., 0., 0., 0.],\n",
       "       [0., 0., 0., 0., 0., 0., 0., 0., 1., 1., 1., 0., 0., 0., 0.],\n",
       "       [0., 0., 0., 0., 0., 0., 0., 0., 0., 0., 0., 0., 0., 0., 0.]])"
      ]
     },
     "execution_count": 38,
     "metadata": {},
     "output_type": "execute_result"
    }
   ],
   "source": [
    "update(importValues(emptyMatrix(15,15), \"crazy_25_25.txt\"))"
   ]
  },
  {
   "cell_type": "markdown",
   "metadata": {},
   "source": [
    "**Animation Code** In order to complete the autograded portion of this mini-project, you do not need to edit or modify the following functions. However you may want to modify things like the color, the framerate, or color boundaries when you visualize your own dataset."
   ]
  },
  {
   "cell_type": "code",
   "execution_count": 39,
   "metadata": {},
   "outputs": [],
   "source": [
    "#INPUT:\n",
    "# a frameNumber\n",
    "# a matplotlib AxesImage object\n",
    "# a 2D matrix (Notably this can be a 3D matrix as well with individual colors as RGBs)\n",
    "#OUTPUT:\n",
    "# a matplotlib AxesImage object containing the updated matrix\n",
    "def updateFig(frameNum, img, matrix):\n",
    "    # The first frame should be the actual input dataset, not the first update step.\n",
    "    if (frameNum == 0):\n",
    "        return img    \n",
    "\n",
    "    # NOTE: If you are making a gif for part 2, you will probably want to replace this\n",
    "    # The main point is that you need to both update matrix and img with the new frame\n",
    "    nm = update(matrix)\n",
    "    \n",
    "    matrix[:] = nm[:]\n",
    "\n",
    "    img.set_data(nm)\n",
    "\n",
    "    return img\n",
    "\n",
    "#INPUT:\n",
    "# a 2D matrix (Notably this can be a 3D matrix as well with individual colors as RGBs)\n",
    "# an integer storing the number of steps\n",
    "# a string storing the path and filename of the file to be written\n",
    "#OUTPUT:\n",
    "# None\n",
    "# Instead an image or gif is saved to the location specified by outname\n",
    "def animate(matrix, steps, outname):\n",
    "    matrix = np.array(matrix)\n",
    "    \n",
    "    # NOTE: If you change these two lines you can adjust the color and bin sizes\n",
    "    # This is only relevant for part 2 -- this code is not used or graded by the autograder\n",
    "    cmap = colors.ListedColormap(['blue', 'yellow', 'red']) \n",
    "    bounds = [0, 1, 2, 3]\n",
    "\n",
    "\n",
    "    norm = colors.BoundaryNorm(bounds, cmap.N)\n",
    "\n",
    "    fig, ax = plt.subplots()\n",
    "    plt.grid(False)\n",
    "    img = ax.imshow(matrix, cmap=cmap, norm=norm)\n",
    "    ani = animation.FuncAnimation(fig, updateFig, fargs=(img, matrix), frames=steps)\n",
    "\n",
    "\n",
    "    ani.save(outname, fps=2)"
   ]
  },
  {
   "cell_type": "markdown",
   "metadata": {},
   "source": [
    "Run-Code"
   ]
  },
  {
   "cell_type": "code",
   "execution_count": 40,
   "metadata": {},
   "outputs": [
    {
     "name": "stderr",
     "output_type": "stream",
     "text": [
      "MovieWriter ffmpeg unavailable; using Pillow instead.\n"
     ]
    },
    {
     "data": {
      "image/png": "[encoded data removed]",
      "text/plain": [
       "<Figure size 640x480 with 1 Axes>"
      ]
     },
     "metadata": {},
     "output_type": "display_data"
    }
   ],
   "source": [
    "csv = open(\"Bitcoin_filtered.csv\", \"r\")\n",
    "string = csv.read()\n",
    "file = open(\"Bitcoin_filtered.txt\", \"w\")\n",
    "writer = \"\" \n",
    "for letter in string:\n",
    "    if letter == \",\":\n",
    "        writer += \" \"\n",
    "    else:\n",
    "        writer += letter\n",
    "file.write(writer)\n",
    "file.close()\n",
    "\n",
    "myFile = \"Bitcoin_filtered.txt\"\n",
    "xdim = 100\n",
    "ydim = 100\n",
    "\n",
    "em = emptyMatrix(xdim,ydim) \n",
    "em = importValues(em, myFile)\n",
    "\n",
    "#animate(em, 10, 'yourOutput.gif')\n",
    "\n",
    "# Here are the commands I used to produce the example gifs:\n",
    "# (You will have to adjust 'myFile' as well as the x and y dimensions to match)\n",
    "#animate(em, 30, 'horizLine_10_10_out.gif')\n",
    "#animate(em, 15, 'multiSpinner_12_12.gif')\n",
    "#animate(em, 15, 'horizLine_5_5_out.gif')\n",
    "#animate(em, 20, 'vanish_5_5_out.gif')\n",
    "#animate(em, 10, 'spinner_3_3_out.gif')\n",
    "animate(em, 1, 'crazy_25_25_out.gif')\n",
    "#animate(em, 2, 'vertLine_5_5_out.gif')"
   ]
  },
  {
   "cell_type": "code",
   "execution_count": null,
   "metadata": {},
   "outputs": [],
   "source": []
  },
  {
   "cell_type": "code",
   "execution_count": null,
   "metadata": {},
   "outputs": [],
   "source": []
  },
  {
   "cell_type": "code",
   "execution_count": null,
   "metadata": {},
   "outputs": [],
   "source": []
  }
 ],
 "metadata": {
  "kernelspec": {
   "display_name": "Python 3",
   "language": "python",
   "name": "python3"
  },
  "language_info": {
   "codemirror_mode": {
    "name": "ipython",
    "version": 3
   },
   "file_extension": ".py",
   "mimetype": "text/x-python",
   "name": "python",
   "nbconvert_exporter": "python",
   "pygments_lexer": "ipython3",
   "version": "3.10.7"
  },
  "vscode": {
   "interpreter": {
    "hash": "5bceec554de280a03412a6f09a63c4022cb2fe8fc3df3020533e7e5739cca0ff"
   }
  }
 },
 "nbformat": 4,
 "nbformat_minor": 4
}
